{
  "cells": [
    {
      "cell_type": "code",
      "execution_count": null,
      "metadata": {
        "id": "Co-e_6j41Y9y"
      },
      "outputs": [],
      "source": [
        "import pandas as pd\n",
        "import numpy as np\n",
        "import matplotlib.pyplot as plt\n",
        "import seaborn as sns\n",
        "import warnings\n",
        "from sklearn.model_selection import train_test_split\n",
        "from sklearn.preprocessing import LabelEncoder\n",
        "from sklearn.ensemble import RandomForestRegressor\n",
        "from sklearn.metrics import mean_absolute_error, r2_score\n",
        "warnings.filterwarnings('ignore')"
      ]
    },
    {
      "cell_type": "code",
      "execution_count": null,
      "metadata": {
        "id": "MrkGOlNa-bfY"
      },
      "outputs": [],
      "source": [
        "plt.style.use('seaborn-v0_8')\n",
        "sns.set_palette('husl')"
      ]
    },
    {
      "cell_type": "code",
      "execution_count": null,
      "metadata": {
        "id": "BYO_Oaa1_Yej"
      },
      "outputs": [],
      "source": [
        "orders_data = pd.read_csv('/content/orders.csv')"
      ]
    },
    {
      "cell_type": "code",
      "execution_count": null,
      "metadata": {
        "colab": {
          "base_uri": "https://localhost:8080/",
          "height": 487
        },
        "id": "lS6DfhFUBK6W",
        "outputId": "bf417c99-1ba4-4863-b604-b0d90e3087c0"
      },
      "outputs": [],
      "source": [
        "orders_data.head()"
      ]
    },
    {
      "cell_type": "code",
      "execution_count": null,
      "metadata": {
        "colab": {
          "base_uri": "https://localhost:8080/"
        },
        "id": "JVJemOxjBMo5",
        "outputId": "58209805-f010-440c-e070-14d441e4fa10"
      },
      "outputs": [],
      "source": [
        "orders_data.shape"
      ]
    },
    {
      "cell_type": "code",
      "execution_count": null,
      "metadata": {
        "id": "BLk9y8ehBPmg"
      },
      "outputs": [],
      "source": [
        "visitor_email_data = pd.read_csv(\"/content/smatlook_visitor_vs_email.csv\")"
      ]
    },
    {
      "cell_type": "code",
      "execution_count": null,
      "metadata": {
        "colab": {
          "base_uri": "https://localhost:8080/",
          "height": 206
        },
        "id": "xhvRrCnjBYrk",
        "outputId": "6929285b-789e-43ed-ed17-4e24a72fb51f"
      },
      "outputs": [],
      "source": [
        "visitor_email_data.head()"
      ]
    },
    {
      "cell_type": "code",
      "execution_count": null,
      "metadata": {
        "colab": {
          "base_uri": "https://localhost:8080/"
        },
        "id": "7Di6k-wvBaEf",
        "outputId": "40593884-6e55-40e9-e124-356822d6ccdf"
      },
      "outputs": [],
      "source": [
        "visitor_email_data.shape"
      ]
    },
    {
      "cell_type": "code",
      "execution_count": null,
      "metadata": {
        "id": "NZOg6g1MBeGS"
      },
      "outputs": [],
      "source": [
        "sessions_data = pd.read_csv(\"/content/smartlook_session.csv\")"
      ]
    },
    {
      "cell_type": "code",
      "execution_count": null,
      "metadata": {
        "colab": {
          "base_uri": "https://localhost:8080/",
          "height": 365
        },
        "id": "Q3evYVQDBkFA",
        "outputId": "ebd920fe-e014-4252-f9b4-565d67684606"
      },
      "outputs": [],
      "source": [
        "sessions_data.head()"
      ]
    },
    {
      "cell_type": "code",
      "execution_count": null,
      "metadata": {
        "colab": {
          "base_uri": "https://localhost:8080/"
        },
        "id": "IDp9mxeuBn2k",
        "outputId": "cfe0c403-72e4-4678-bf63-15fe8c8706eb"
      },
      "outputs": [],
      "source": [
        "sessions_data.shape"
      ]
    },
    {
      "cell_type": "code",
      "execution_count": null,
      "metadata": {
        "id": "135wQ73OBplQ"
      },
      "outputs": [],
      "source": [
        "questionnaire_data = pd.read_csv(\"/content/questionnaire_cleaned.csv\")"
      ]
    },
    {
      "cell_type": "code",
      "execution_count": null,
      "metadata": {
        "colab": {
          "base_uri": "https://localhost:8080/",
          "height": 516
        },
        "id": "00YOEngHCBTe",
        "outputId": "1cbc031f-be7a-4186-9b95-7ae867b156a2"
      },
      "outputs": [],
      "source": [
        "questionnaire_data.head()"
      ]
    },
    {
      "cell_type": "code",
      "execution_count": null,
      "metadata": {
        "colab": {
          "base_uri": "https://localhost:8080/"
        },
        "id": "ABU6Z_57CDnC",
        "outputId": "972dab6e-4595-4e87-f3e0-9c2575ef5eeb"
      },
      "outputs": [],
      "source": [
        "questionnaire_data.shape"
      ]
    },
    {
      "cell_type": "code",
      "execution_count": null,
      "metadata": {
        "id": "ioH1X6etCGRm"
      },
      "outputs": [],
      "source": [
        "master_df = orders_data.merge(visitor_email_data, on='email_hash', how='left')"
      ]
    },
    {
      "cell_type": "code",
      "execution_count": null,
      "metadata": {
        "colab": {
          "base_uri": "https://localhost:8080/",
          "height": 487
        },
        "id": "xEY_Um0iCeYp",
        "outputId": "6c6e8fb4-81c1-458d-af76-bb2a4fe2c8aa"
      },
      "outputs": [],
      "source": [
        "master_df.head()"
      ]
    },
    {
      "cell_type": "code",
      "execution_count": null,
      "metadata": {
        "id": "unYhXimRChr2"
      },
      "outputs": [],
      "source": [
        "sessions_data['startedAt'] = pd.to_datetime(sessions_data['startedAt'])\n",
        "sessions_data['endedAt'] = pd.to_datetime(sessions_data['endedAt'])"
      ]
    },
    {
      "cell_type": "code",
      "execution_count": null,
      "metadata": {
        "id": "Z04VPxEPDCZE"
      },
      "outputs": [],
      "source": [
        "sessions_data['session_duration'] = (sessions_data['endedAt'] - sessions_data['startedAt']).dt.total_seconds()"
      ]
    },
    {
      "cell_type": "code",
      "execution_count": null,
      "metadata": {
        "id": "tmSuesHADLQI"
      },
      "outputs": [],
      "source": [
        "session_agg = sessions_data.groupby('visitorId').agg({\n",
        "    'session_duration' : 'mean',\n",
        "    'referrer' : 'first',\n",
        "    'device_type' : lambda x: x.mode().iloc[0] if not x.mode().empty else 'unknown'}).reset_index()"
      ]
    },
    {
      "cell_type": "code",
      "execution_count": null,
      "metadata": {
        "id": "VDgbboDGQFbH"
      },
      "outputs": [],
      "source": [
        "session_count = sessions_data.groupby('visitorId').size().reset_index(name='total_session')"
      ]
    },
    {
      "cell_type": "code",
      "execution_count": null,
      "metadata": {
        "id": "cg_ijOfYQgV4"
      },
      "outputs": [],
      "source": [
        "sessions_agg = session_agg.merge(session_count, on='visitorId')"
      ]
    },
    {
      "cell_type": "code",
      "execution_count": null,
      "metadata": {
        "colab": {
          "base_uri": "https://localhost:8080/"
        },
        "id": "61yHAuKkUOi2",
        "outputId": "4c8afae2-c6df-48f3-b7d6-41e273519db3"
      },
      "outputs": [],
      "source": [
        "sessions_agg.columns"
      ]
    },
    {
      "cell_type": "code",
      "execution_count": null,
      "metadata": {
        "id": "zQ9hWU3rFNs3"
      },
      "outputs": [],
      "source": [
        "sessions_agg = sessions_agg[['visitorId'  ,'total_session', 'session_duration' , 'referrer' , 'device_type']]"
      ]
    },
    {
      "cell_type": "code",
      "execution_count": null,
      "metadata": {
        "id": "RRTTNFvsPSIc"
      },
      "outputs": [],
      "source": [
        "sessions_agg.columns = ['visitorId' , 'total_sessions' , 'avg_session_duration' , 'first_referrer' , 'most_common_device']"
      ]
    },
    {
      "cell_type": "code",
      "execution_count": null,
      "metadata": {
        "colab": {
          "base_uri": "https://localhost:8080/"
        },
        "id": "dZ2qWjgkVVZ3",
        "outputId": "aa924c64-309b-4392-e1a2-664c953a77ea"
      },
      "outputs": [],
      "source": [
        "sessions_agg.shape"
      ]
    },
    {
      "cell_type": "code",
      "execution_count": null,
      "metadata": {
        "id": "mXog9QHeVaWm"
      },
      "outputs": [],
      "source": [
        "master_df = master_df.merge(sessions_agg, on='visitorId', how='left')"
      ]
    },
    {
      "cell_type": "code",
      "execution_count": null,
      "metadata": {
        "colab": {
          "base_uri": "https://localhost:8080/",
          "height": 1000
        },
        "collapsed": true,
        "id": "DmLthefbVtqt",
        "outputId": "72415299-7245-4b7c-8b41-1354e7c07500"
      },
      "outputs": [],
      "source": [
        "master_df.head(50)"
      ]
    },
    {
      "cell_type": "code",
      "execution_count": null,
      "metadata": {
        "id": "RyH70sCEVxfP"
      },
      "outputs": [],
      "source": [
        "parent_orders = master_df[master_df['is_parent_order'] == 1]\n",
        "questionnaire_merged = parent_orders.merge(questionnaire_data, left_on='orderId', right_on = 'order_id', how='left')"
      ]
    },
    {
      "cell_type": "code",
      "execution_count": null,
      "metadata": {
        "id": "WAkXpextc0nl"
      },
      "outputs": [],
      "source": [
        "questionnaire_customers = questionnaire_merged[['email_hash' ] + list(questionnaire_data.columns)].drop_duplicates('email_hash')"
      ]
    },
    {
      "cell_type": "code",
      "execution_count": null,
      "metadata": {
        "id": "5z_EYju9b-_G"
      },
      "outputs": [],
      "source": [
        "master_df = master_df.merge(questionnaire_customers , on= 'email_hash' , how = 'left')"
      ]
    },
    {
      "cell_type": "code",
      "execution_count": null,
      "metadata": {
        "id": "Ud9AFkuydYXj"
      },
      "outputs": [],
      "source": [
        "ltv_df = orders_data.groupby('email_hash')['total'].sum().reset_index()\n",
        "ltv_df.columns = ['email_hash' , 'LTV']"
      ]
    },
    {
      "cell_type": "code",
      "execution_count": null,
      "metadata": {
        "id": "LkVeS_efdpHP"
      },
      "outputs": [],
      "source": [
        "customer_metrics = orders_data.groupby('email_hash').agg({\n",
        "    'orderId' : 'count' ,\n",
        "    'total' : ['sum' , 'mean'] ,\n",
        "    'is_parent_order' : lambda x: (x == 0).sum(),\n",
        "    'cart_discount' : 'sum'\n",
        "\n",
        "}).reset_index()"
      ]
    },
    {
      "cell_type": "code",
      "execution_count": null,
      "metadata": {
        "id": "o3t64pUxdsQP"
      },
      "outputs": [],
      "source": [
        "customer_metrics.columns = ['email_hash' , 'total_orders' , 'LTV' , 'avg_order_value' , 'renewal_count' , 'total_discount']"
      ]
    },
    {
      "cell_type": "code",
      "execution_count": null,
      "metadata": {
        "id": "01NH_VoKeY9w"
      },
      "outputs": [],
      "source": [
        "current_year = 2025\n",
        "if 'birth_year' in master_df.columns:\n",
        "    master_df['age'] = current_year - master_df['birth_year']"
      ]
    },
    {
      "cell_type": "code",
      "execution_count": null,
      "metadata": {
        "id": "5nbr-WsBeiih"
      },
      "outputs": [],
      "source": [
        "def extract_aquisition_source(referrer):\n",
        "  if pd.isna(referrer) or referrer == '':\n",
        "    return 'direct'\n",
        "  referrer = str(referrer).lower()\n",
        "  if 'google' in referrer:\n",
        "    return 'google'\n",
        "  elif 'facebook' in referrer:\n",
        "    return 'facebook'\n",
        "  elif 'bing' in referrer:\n",
        "    return 'bing'\n",
        "  elif 'instagram' in referrer:\n",
        "    return 'instagram'\n",
        "  elif 'email' in referrer:\n",
        "    return 'email'\n",
        "  else:\n",
        "    return \"other\""
      ]
    },
    {
      "cell_type": "code",
      "execution_count": null,
      "metadata": {
        "id": "kv1Vh2wHfHke"
      },
      "outputs": [],
      "source": [
        "master_df['acquisition_source'] = master_df['first_referrer'].apply(extract_aquisition_source)"
      ]
    },
    {
      "cell_type": "code",
      "execution_count": null,
      "metadata": {
        "id": "RIaTlGsJfTBe"
      },
      "outputs": [],
      "source": [
        "def extract_utm (url , param):\n",
        "  if pd.isna(url):\n",
        "    return 'unknown'\n",
        "  try:\n",
        "    if f'{param}=' in str(url):\n",
        "      start = str(url).find(f'{param}=') + len(f'{param}=')\n",
        "      end = str(url).find('&',start)\n",
        "      if end == -1:\n",
        "        return str(url)[start:]\n",
        "      return str(url)[start:end]\n",
        "  except:\n",
        "    pass\n",
        "  return 'unknown'\n"
      ]
    },
    {
      "cell_type": "code",
      "execution_count": null,
      "metadata": {
        "id": "qmanAhcUgFki"
      },
      "outputs": [],
      "source": [
        "if 'landingPage' in sessions_data.columns:\n",
        "  utm_data = sessions_data.groupby('visitorId')['landingPage'].first().reset_index()\n",
        "  utm_data['utm_source'] = utm_data['landingPage'].apply(lambda x: extract_utm(x , 'utm_source'))\n",
        "  utm_data['utm_medium'] = utm_data['landingPage'].apply(lambda x: extract_utm(x , 'utm_medium'))\n",
        "  utm_data['utm_campaign'] = utm_data['landingPage'].apply(lambda x: extract_utm(x , 'utm_campaign'))\n",
        "  master_df = master_df.merge(utm_data[['visitorId' , 'utm_source' , 'utm_medium' , 'utm_campaign']], on = 'visitorId' , how = 'left')"
      ]
    },
    {
      "cell_type": "code",
      "execution_count": null,
      "metadata": {
        "id": "6K-fkXN0hQ9O"
      },
      "outputs": [],
      "source": [
        "customer_df = master_df.groupby('email_hash').agg({\n",
        "    'visitorId' : 'first',\n",
        "    'total_sessions' : 'first',\n",
        "    'avg_session_duration' : 'first',\n",
        "    'acquisition_source' : 'first',\n",
        "    'most_common_device' : 'first',\n",
        "    'age' : 'first',\n",
        "    'shipping_state' : 'first'\n",
        "}).reset_index()"
      ]
    },
    {
      "cell_type": "code",
      "execution_count": null,
      "metadata": {
        "id": "icmoXAyRh0NQ"
      },
      "outputs": [],
      "source": [
        "if 'utm_source' in master_df.columns:\n",
        "  utm_customer = master_df.groupby('email_hash')[['utm_source' , 'utm_medium' , 'utm_campaign']].first().reset_index()\n",
        "  customer_df = customer_df.merge(utm_customer, on='email_hash', how='left')\n"
      ]
    },
    {
      "cell_type": "code",
      "execution_count": null,
      "metadata": {
        "id": "jEnKVHRyiSL9"
      },
      "outputs": [],
      "source": [
        "questionnaire_cols = [col for col in questionnaire_data.columns if col != 'orderID']"
      ]
    },
    {
      "cell_type": "code",
      "execution_count": null,
      "metadata": {
        "id": "DNb7NXYHidV4"
      },
      "outputs": [],
      "source": [
        "if questionnaire_cols:\n",
        "  quest_customer = master_df.groupby('email_hash')[questionnaire_cols].first().reset_index()\n",
        "  customer_df = customer_df.merge(quest_customer, on='email_hash', how='left')"
      ]
    },
    {
      "cell_type": "code",
      "execution_count": null,
      "metadata": {
        "id": "7twIlum1keZZ"
      },
      "outputs": [],
      "source": [
        "customer_df = customer_df.merge(customer_metrics, on='email_hash', how='left')\n"
      ]
    },
    {
      "cell_type": "code",
      "execution_count": null,
      "metadata": {
        "colab": {
          "base_uri": "https://localhost:8080/",
          "height": 273
        },
        "id": "PKeBJ1nfivb8",
        "outputId": "3ef8118b-e0a5-4b30-885a-ade0c7eee2c9"
      },
      "outputs": [],
      "source": [
        "customer_df.head()"
      ]
    },
    {
      "cell_type": "markdown",
      "metadata": {
        "id": "bTbL33g4jAas"
      },
      "source": []
    },
    {
      "cell_type": "code",
      "execution_count": null,
      "metadata": {
        "colab": {
          "base_uri": "https://localhost:8080/"
        },
        "id": "FTdEBwRMjCBs",
        "outputId": "0673b21a-0822-459f-c48e-55aa16202d9c"
      },
      "outputs": [],
      "source": [
        "ltv_by_channel = customer_df.groupby('acquisition_source')['LTV'].agg(['mean' , 'count']).round(2)\n",
        "ltv_by_channel.columns = ['Avg_LTV' , 'Cusotomer_Count']\n",
        "print(\"Acquisition Channel\\n\\n\\n\" , ltv_by_channel.sort_values('Avg_LTV' , ascending = False))"
      ]
    },
    {
      "cell_type": "code",
      "execution_count": null,
      "metadata": {
        "colab": {
          "base_uri": "https://localhost:8080/"
        },
        "id": "LE3v0ZhejeWC",
        "outputId": "7027ec92-6f9b-4a18-df85-840a3997649d"
      },
      "outputs": [],
      "source": [
        "ltv_by_channel = customer_df.groupby('most_common_device')['LTV'].agg(['mean' , 'count']).round(2)\n",
        "ltv_by_channel.columns = ['Avg_LTV' , 'Cusotomer_Count']\n",
        "print(\"Device Type Channel\\n\\n\\n\" , ltv_by_channel.sort_values('Avg_LTV' , ascending = False))"
      ]
    },
    {
      "cell_type": "code",
      "execution_count": null,
      "metadata": {
        "colab": {
          "base_uri": "https://localhost:8080/"
        },
        "id": "Ca7UYfH1k-Un",
        "outputId": "a5d4002f-33d4-4ccd-a0c5-23adf6e472cd"
      },
      "outputs": [],
      "source": [
        "if 'total_sessions' in customer_df.columns:\n",
        "  sessions_ltv_corr = customer_df[['total_sessions' , 'avg_session_duration' , 'LTV']].corr()\n",
        "  print('\\n Correlation with LTV')\n",
        "  print(sessions_ltv_corr['LTV'].sort_values(ascending = False))"
      ]
    },
    {
      "cell_type": "code",
      "execution_count": null,
      "metadata": {
        "id": "PsITSrxVlbZN"
      },
      "outputs": [],
      "source": [
        "model_df = customer_df.copy()\n",
        "feature_columns = ['age' , 'total_sessions' , 'avg_session_duration' , 'total_orders' , 'renewal_count']"
      ]
    },
    {
      "cell_type": "code",
      "execution_count": null,
      "metadata": {
        "id": "Jmo10MZ_luDy"
      },
      "outputs": [],
      "source": [
        "categorical_features = ['acquisition_source' , 'most_common_device' , 'shipping_state']"
      ]
    },
    {
      "cell_type": "code",
      "execution_count": null,
      "metadata": {
        "id": "UTlyrIRBl3Qa"
      },
      "outputs": [],
      "source": [
        "if 'utm_source' in model_df.columns:\n",
        "  categorical_features.extend(['utm_source' , 'utm_medium' , 'utm_campaign'])"
      ]
    },
    {
      "cell_type": "code",
      "execution_count": null,
      "metadata": {
        "id": "6GV4Gtqol6ob"
      },
      "outputs": [],
      "source": [
        "label_encoders =  {}\n",
        "for col in categorical_features:\n",
        "  if col in model_df.columns:\n",
        "    encoder = LabelEncoder()\n",
        "    model_df [col + '_encoded'] = encoder.fit_transform(model_df[col].fillna('unknown'))\n",
        "    feature_columns.append(col + '_encoded')\n",
        "    label_encoders[col] = encoder"
      ]
    },
    {
      "cell_type": "code",
      "execution_count": null,
      "metadata": {
        "colab": {
          "base_uri": "https://localhost:8080/"
        },
        "id": "lwTU5txWmmDM",
        "outputId": "a2ca6d97-a914-42d3-a705-259d2bd50b2a"
      },
      "outputs": [],
      "source": [
        "for col in questionnaire_data.columns:\n",
        "    if col in model_df.columns and col not in ['orderId', 'order_id']:\n",
        "        if model_df[col].isna().all():\n",
        "          print(f\"Skipping {col} - all values are NaN\")\n",
        "          continue\n",
        "\n",
        "        print(f\"Processing column: {col}\")\n",
        "        print(f\"Original data types in {col}: {model_df[col].apply(type).value_counts()}\")\n",
        "        column_data = model_df[col].fillna('unknown').astype(str)\n",
        "\n",
        "        le = LabelEncoder()\n",
        "        encoded_col_name = col + '_encoded'\n",
        "\n",
        "        try:\n",
        "            model_df[encoded_col_name] = le.fit_transform(column_data)\n",
        "            feature_columns.append(encoded_col_name)\n",
        "            label_encoders[col] = le\n",
        "            questionnaire_binary_cols.append(encoded_col_name)\n",
        "\n",
        "            print(f\"Successfully encoded {col} -> {encoded_col_name}\")\n",
        "            print(f\"Unique values: {le.classes_}\")\n",
        "\n",
        "        except Exception as e:\n",
        "            print(f\"Error encoding {col}: {str(e)}\")\n",
        "            print(f\"Sample values: {column_data.unique()[:5]}\")\n",
        "            continue\n"
      ]
    },
    {
      "cell_type": "code",
      "execution_count": null,
      "metadata": {
        "id": "gI0goUz2nZkq"
      },
      "outputs": [],
      "source": [
        "model_features = model_df[feature_columns].fillna(0)\n",
        "target = model_df['LTV'].fillna(0)"
      ]
    },
    {
      "cell_type": "code",
      "execution_count": null,
      "metadata": {
        "id": "rb9hzSSdowQN"
      },
      "outputs": [],
      "source": [
        "valid_customers = target > 0\n",
        "X = model_features [valid_customers]\n",
        "y = target[valid_customers]"
      ]
    },
    {
      "cell_type": "code",
      "execution_count": null,
      "metadata": {
        "colab": {
          "base_uri": "https://localhost:8080/"
        },
        "id": "Ke9N83pyo8lc",
        "outputId": "78f355ee-c901-4a92-ce76-7f102ba32784"
      },
      "outputs": [],
      "source": [
        "print(f\"Training dataset: {X.shape[0]} customers, {X.shape[1]} features\")\n"
      ]
    },
    {
      "cell_type": "code",
      "execution_count": null,
      "metadata": {
        "id": "iyq29GwQo9JB"
      },
      "outputs": [],
      "source": [
        "X_train, X_test, y_train, y_test = train_test_split(X, y, test_size=0.2, random_state=42)\n"
      ]
    },
    {
      "cell_type": "code",
      "execution_count": null,
      "metadata": {
        "id": "eFqxkjPYpAnF"
      },
      "outputs": [],
      "source": [
        "model = RandomForestRegressor(n_estimators=100, random_state=42 ,max_depth  =10)\n",
        "model.fit(X_train, y_train)\n",
        "y_pred= model.predict(X_test)"
      ]
    },
    {
      "cell_type": "code",
      "execution_count": null,
      "metadata": {
        "id": "aojSmLNupWjO"
      },
      "outputs": [],
      "source": [
        "mae = mean_absolute_error(y_test, y_pred)\n",
        "r2 = r2_score(y_test, y_pred)\n"
      ]
    },
    {
      "cell_type": "code",
      "execution_count": null,
      "metadata": {
        "colab": {
          "base_uri": "https://localhost:8080/"
        },
        "id": "uLwZCs1gpcGz",
        "outputId": "bcaa60d1-a3a1-461a-fbab-a2067d7f4453"
      },
      "outputs": [],
      "source": [
        "print(f\"Model Performance:\")\n",
        "print(f\"Mean Absolute Error: {mae}\")\n",
        "print(f\"R2 Score: {r2}\")"
      ]
    },
    {
      "cell_type": "code",
      "execution_count": null,
      "metadata": {
        "id": "NfOw62Cdpgnz"
      },
      "outputs": [],
      "source": [
        "feature_importance = pd.DataFrame({\n",
        "    'feature'  : X.columns,\n",
        "    'important' : model.feature_importances_\n",
        "}).sort_values('important' , ascending = False)"
      ]
    },
    {
      "cell_type": "code",
      "execution_count": null,
      "metadata": {
        "colab": {
          "base_uri": "https://localhost:8080/"
        },
        "id": "czTag41GqaLE",
        "outputId": "af43a337-627e-4c68-e476-529275be14b6"
      },
      "outputs": [],
      "source": [
        "print (f\"Top most important features for customer life time value: {feature_importance.head()}\" )"
      ]
    },
    {
      "cell_type": "markdown",
      "metadata": {
        "id": "GIWctkiQ4pA2"
      },
      "source": [
        "EDA"
      ]
    },
    {
      "cell_type": "code",
      "execution_count": null,
      "metadata": {
        "id": "leOw6xVyqqHX"
      },
      "outputs": [],
      "source": [
        "def create_customer_segment (row):\n",
        "  ltv = row['LTV']\n",
        "  renewals = row['renewal_count']\n",
        "  orders = row['total_orders']\n",
        "\n",
        "  if ltv > customer_df['LTV'].quantile(0.75) and renewals > 2:\n",
        "    return \"High-Value Renewers\"\n",
        "  elif orders ==1 and renewals ==0:\n",
        "    return 'One-and-Dones'\n",
        "  elif row['total_discount'] > customer_df['total_discount'].quantile(0.75):\n",
        "    return \"Bargain Hunters\"\n",
        "  elif ltv > customer_df['LTV'].median():\n",
        "    return 'Solid Customers'\n",
        "  else:\n",
        "    return \"Low-Value Customers\"\n",
        "customer_df['segment'] = customer_df.apply(create_customer_segment, axis=1)"
      ]
    },
    {
      "cell_type": "code",
      "execution_count": null,
      "metadata": {
        "id": "Th0rmZAV52bU"
      },
      "outputs": [],
      "source": [
        "segment_analysis = customer_df.groupby('segment').agg({\n",
        "    'LTV' : ['count' , 'mean' ],\n",
        "    'total_sessions' : 'mean',\n",
        "    'renewal_count' : 'mean',\n",
        "    'total_discount' : 'mean'}).round(2)"
      ]
    },
    {
      "cell_type": "code",
      "execution_count": null,
      "metadata": {
        "colab": {
          "base_uri": "https://localhost:8080/"
        },
        "id": "xoVDHUJc6JVM",
        "outputId": "4e5f1c34-e58d-40f5-88fe-681283bdc6e1"
      },
      "outputs": [],
      "source": [
        "print(f'Customer Segments Analysis:{segment_analysis}')"
      ]
    },
    {
      "cell_type": "code",
      "execution_count": null,
      "metadata": {
        "id": "FBSbKu5v6Tyj"
      },
      "outputs": [],
      "source": [
        "facts_and_insights = []"
      ]
    },
    {
      "cell_type": "code",
      "execution_count": null,
      "metadata": {
        "id": "ATsF4SGx6aEw"
      },
      "outputs": [],
      "source": [
        "mobile_ltv  =customer_df[customer_df['most_common_device'] == 'mobile']['LTV'].mean()\n",
        "desktop_ltv  =customer_df[customer_df['most_common_device'] == 'desktop']['LTV'].mean()"
      ]
    },
    {
      "cell_type": "code",
      "execution_count": null,
      "metadata": {
        "id": "NmPuZz5t6nS-"
      },
      "outputs": [],
      "source": [
        "if desktop_ltv > mobile_ltv :\n",
        "  difference = ((desktop_ltv - mobile_ltv) / mobile_ltv) * 100\n",
        "  fact1 = f'Desktop users have {difference}% higher LTV than mobile users ({desktop_ltv} vs {mobile_ltv})'\n",
        "  facts_and_insights.append((\"Device Impact\" , fact1))"
      ]
    },
    {
      "cell_type": "code",
      "execution_count": null,
      "metadata": {
        "id": "Glpss7U37GOt"
      },
      "outputs": [],
      "source": [
        "best_channel = ltv_by_channel.idxmax()['Avg_LTV']\n",
        "best_channel_ltv = ltv_by_channel.loc[best_channel , 'Avg_LTV']\n",
        "worst_channel = ltv_by_channel.idxmin()['Avg_LTV']\n",
        "worst_channel_ltv = ltv_by_channel.loc[worst_channel , 'Avg_LTV']"
      ]
    },
    {
      "cell_type": "code",
      "execution_count": null,
      "metadata": {
        "id": "8bTiPQpl7wyC"
      },
      "outputs": [],
      "source": [
        "fact2 = f\"customer from {best_channel} have the highest LTV ({best_channel_ltv}) , while {worst_channel} has the lowest ({worst_channel_ltv})\"\n",
        "facts_and_insights.append(('Acquisition Channels' , fact2))"
      ]
    },
    {
      "cell_type": "code",
      "execution_count": null,
      "metadata": {
        "id": "EGR8k6NY_6OH"
      },
      "outputs": [],
      "source": [
        "if 'total_sessions' in customer_df.columns:\n",
        "  high_sessions = customer_df[customer_df['total_sessions'] > customer_df['total_sessions'].quantile(0.75)]\n",
        "  low_sessions = customer_df[customer_df['total_sessions'] > customer_df['total_sessions'].quantile(0.25)]\n",
        "\n",
        "\n",
        "  high_sessions_ltv = high_sessions['LTV'].mean()\n",
        "  low_sessions_ltv = low_sessions['LTV'].mean()\n",
        "\n",
        "  if high_sessions_ltv > low_sessions_ltv:\n",
        "    difference = ((high_sessions_ltv - low_sessions_ltv) / low_sessions_ltv) * 100\n",
        "    fact3 = f'High-engagement customers (top 25% by sessions) have  {difference}% higher LTV ({high_sessions_ltv} vs {low_sessions_ltv})'\n",
        "    facts_and_insights.append(('Website Engagement' , fact3))"
      ]
    },
    {
      "cell_type": "code",
      "execution_count": null,
      "metadata": {
        "colab": {
          "base_uri": "https://localhost:8080/"
        },
        "id": "w2rC1RROA5SW",
        "outputId": "d5286ebc-9650-42d5-f2eb-af82ad68bffc"
      },
      "outputs": [],
      "source": [
        "for category, fact in facts_and_insights:\n",
        "    print(f\"\\n{category}: {fact}\")"
      ]
    },
    {
      "cell_type": "code",
      "execution_count": null,
      "metadata": {
        "id": "x9fRW3i7BNHy"
      },
      "outputs": [],
      "source": [
        "insights = [\n",
        "    {\n",
        "        \"title\": \"Optimize for Desktop Experience\",\n",
        "        \"finding\": f\"Desktop users show {((desktop_ltv - mobile_ltv) / mobile_ltv) * 100:.1f}% higher LTV\",\n",
        "        \"action\": \"Invest in desktop UX improvements and consider desktop-specific marketing campaigns\"\n",
        "    },\n",
        "    {\n",
        "        \"title\": \"Focus Marketing Budget on Top Channels\",\n",
        "        \"finding\": f\"{best_channel} acquisition shows highest customer value\",\n",
        "        \"action\": f\"Increase marketing budget allocation to {best_channel} and analyze what makes these customers more valuable\"\n",
        "    },\n",
        "    {\n",
        "        \"title\": \"Engage High-Value Segments\",\n",
        "        \"finding\": f\"{customer_df[customer_df['segment'] == 'High-Value Renewers'].shape[0]} customers in 'High-Value Renewers' segment\",\n",
        "        \"action\": \"Create VIP program and personalized retention campaigns for this segment\"\n",
        "    },\n",
        "    {\n",
        "        \"title\": \"Reduce One-and-Done Churn\",\n",
        "        \"finding\": f\"{customer_df[customer_df['segment'] == 'One-and-Dones'].shape[0]} customers made only one purchase\",\n",
        "        \"action\": \"Implement targeted email sequences and first-purchase follow-up campaigns\"\n",
        "    }\n",
        "]"
      ]
    },
    {
      "cell_type": "code",
      "execution_count": null,
      "metadata": {
        "colab": {
          "base_uri": "https://localhost:8080/"
        },
        "id": "QNecRs0uBUPo",
        "outputId": "e9ce3171-2388-4ddd-f9a4-4413bf231139"
      },
      "outputs": [],
      "source": [
        "for i , insight in enumerate(insights, 1):\n",
        "  print(f\"{i}. {insight['title']}\")\n",
        "  print(f\"Finding: {insight['finding']}\")\n",
        "  print(f\"Action: {insight['action']}\")"
      ]
    },
    {
      "cell_type": "code",
      "execution_count": null,
      "metadata": {
        "id": "wMinSgfBBjKO"
      },
      "outputs": [],
      "source": [
        "customer_df.to_csv(\"customer_analysis_results.csv\" , index = False)\n",
        "feature_importance.to_csv(\"feature_importance.csv\" , index = False)\n",
        "master_df.to_csv(\"master_df.csv\" , index = False)"
      ]
    },
    {
      "cell_type": "code",
      "execution_count": null,
      "metadata": {
        "id": "Vt9_-KyCCRNR"
      },
      "outputs": [],
      "source": []
    }
  ],
  "metadata": {
    "colab": {
      "provenance": []
    },
    "kernelspec": {
      "display_name": ".venv",
      "language": "python",
      "name": "python3"
    },
    "language_info": {
      "codemirror_mode": {
        "name": "ipython",
        "version": 3
      },
      "file_extension": ".py",
      "mimetype": "text/x-python",
      "name": "python",
      "nbconvert_exporter": "python",
      "pygments_lexer": "ipython3",
      "version": "3.12.0"
    }
  },
  "nbformat": 4,
  "nbformat_minor": 0
}
